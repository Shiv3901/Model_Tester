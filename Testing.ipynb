{
 "cells": [
  {
   "cell_type": "code",
   "execution_count": 1,
   "id": "05767d04",
   "metadata": {},
   "outputs": [],
   "source": [
    "# TESTING FRAMEWORK TO TEST 5 TRAFFIC DATASETS WITH DIFFERENT SETS OF CARS"
   ]
  },
  {
   "cell_type": "code",
   "execution_count": 5,
   "id": "c77fac95",
   "metadata": {},
   "outputs": [
    {
     "data": {
      "text/html": [
       "        <script type=\"text/javascript\">\n",
       "        window.PlotlyConfig = {MathJaxConfig: 'local'};\n",
       "        if (window.MathJax) {MathJax.Hub.Config({SVG: {font: \"STIX-Web\"}});}\n",
       "        if (typeof require !== 'undefined') {\n",
       "        require.undef(\"plotly\");\n",
       "        requirejs.config({\n",
       "            paths: {\n",
       "                'plotly': ['https://cdn.plot.ly/plotly-latest.min']\n",
       "            }\n",
       "        });\n",
       "        require(['plotly'], function(Plotly) {\n",
       "            window._Plotly = Plotly;\n",
       "        });\n",
       "        }\n",
       "        </script>\n",
       "        "
      ]
     },
     "metadata": {},
     "output_type": "display_data"
    },
    {
     "data": {
      "text/html": [
       "        <script type=\"text/javascript\">\n",
       "        window.PlotlyConfig = {MathJaxConfig: 'local'};\n",
       "        if (window.MathJax) {MathJax.Hub.Config({SVG: {font: \"STIX-Web\"}});}\n",
       "        if (typeof require !== 'undefined') {\n",
       "        require.undef(\"plotly\");\n",
       "        requirejs.config({\n",
       "            paths: {\n",
       "                'plotly': ['https://cdn.plot.ly/plotly-latest.min']\n",
       "            }\n",
       "        });\n",
       "        require(['plotly'], function(Plotly) {\n",
       "            window._Plotly = Plotly;\n",
       "        });\n",
       "        }\n",
       "        </script>\n",
       "        "
      ]
     },
     "metadata": {},
     "output_type": "display_data"
    },
    {
     "data": {
      "text/html": [
       "        <script type=\"text/javascript\">\n",
       "        window.PlotlyConfig = {MathJaxConfig: 'local'};\n",
       "        if (window.MathJax) {MathJax.Hub.Config({SVG: {font: \"STIX-Web\"}});}\n",
       "        if (typeof require !== 'undefined') {\n",
       "        require.undef(\"plotly\");\n",
       "        requirejs.config({\n",
       "            paths: {\n",
       "                'plotly': ['https://cdn.plot.ly/plotly-latest.min']\n",
       "            }\n",
       "        });\n",
       "        require(['plotly'], function(Plotly) {\n",
       "            window._Plotly = Plotly;\n",
       "        });\n",
       "        }\n",
       "        </script>\n",
       "        "
      ]
     },
     "metadata": {},
     "output_type": "display_data"
    }
   ],
   "source": [
    "import pandas as pd\n",
    "from matplotlib import pyplot as plt\n",
    "from plotly import graph_objs as go\n",
    "from plotly.offline import init_notebook_mode, iplot\n",
    "init_notebook_mode(connected=True)\n",
    "import pandas as pd\n",
    "import math\n",
    "\n",
    "plt.rcParams[\"figure.figsize\"] = (15,5)\n",
    "\n",
    "from tools_ import Generate as Class   # import the custom python package"
   ]
  },
  {
   "cell_type": "code",
   "execution_count": 6,
   "id": "3c68c4b7",
   "metadata": {},
   "outputs": [],
   "source": [
    "config_info = {\n",
    "    \"paths\": [\"run_1.csv\", \"run_2.csv\", \"run_3.csv\", \"run_4.csv\", \"run_5.csv\"],\n",
    "    \"prefix\": \"Test \",\n",
    "    \"suffix_main_titles\": [\"40 cars\", \"50 cars\", \"60 cars\", \"70 cars\", \"80 cars\"],\n",
    "    \"labels_of_decisions\": [\"Decision 1\", \"Decision 2\", \"Decision 3\", \"Decision 4\", \"Normal AHP\", \"Advanced AHP\"],\n",
    "    \"direc\": \"datasets\",\n",
    "    \"no_of_decisions\": 6,\n",
    "    \"blurb\": \": Evaluating decision making models with \"\n",
    "}\n",
    "\n",
    "runs = Class.Generate(config_info)"
   ]
  },
  {
   "cell_type": "code",
   "execution_count": 8,
   "id": "b30afb30",
   "metadata": {},
   "outputs": [],
   "source": [
    "# runs.generate_all_plots(5000, 120)"
   ]
  },
  {
   "cell_type": "code",
   "execution_count": 1,
   "id": "0af84afa",
   "metadata": {},
   "outputs": [],
   "source": [
    "# runs.generate_line_plot()"
   ]
  },
  {
   "cell_type": "code",
   "execution_count": 10,
   "id": "1a3ab267",
   "metadata": {},
   "outputs": [],
   "source": [
    "# runs.generate_bar_plot(5000)"
   ]
  },
  {
   "cell_type": "code",
   "execution_count": 2,
   "id": "66cae1d8",
   "metadata": {},
   "outputs": [],
   "source": [
    "# runs.generate_moving_avg_plot(120)"
   ]
  },
  {
   "cell_type": "code",
   "execution_count": null,
   "id": "6d0d8525",
   "metadata": {},
   "outputs": [],
   "source": []
  }
 ],
 "metadata": {
  "kernelspec": {
   "display_name": "Python 3 (ipykernel)",
   "language": "python",
   "name": "python3"
  },
  "language_info": {
   "codemirror_mode": {
    "name": "ipython",
    "version": 3
   },
   "file_extension": ".py",
   "mimetype": "text/x-python",
   "name": "python",
   "nbconvert_exporter": "python",
   "pygments_lexer": "ipython3",
   "version": "3.8.10"
  }
 },
 "nbformat": 4,
 "nbformat_minor": 5
}
