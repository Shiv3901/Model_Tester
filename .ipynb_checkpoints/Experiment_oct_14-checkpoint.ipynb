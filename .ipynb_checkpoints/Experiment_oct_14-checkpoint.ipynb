{
 "cells": [
  {
   "cell_type": "code",
   "execution_count": 1,
   "id": "e9e72bc7",
   "metadata": {},
   "outputs": [
    {
     "data": {
      "text/html": [
       "        <script type=\"text/javascript\">\n",
       "        window.PlotlyConfig = {MathJaxConfig: 'local'};\n",
       "        if (window.MathJax) {MathJax.Hub.Config({SVG: {font: \"STIX-Web\"}});}\n",
       "        if (typeof require !== 'undefined') {\n",
       "        require.undef(\"plotly\");\n",
       "        requirejs.config({\n",
       "            paths: {\n",
       "                'plotly': ['https://cdn.plot.ly/plotly-latest.min']\n",
       "            }\n",
       "        });\n",
       "        require(['plotly'], function(Plotly) {\n",
       "            window._Plotly = Plotly;\n",
       "        });\n",
       "        }\n",
       "        </script>\n",
       "        "
      ]
     },
     "metadata": {},
     "output_type": "display_data"
    }
   ],
   "source": [
    "import pandas as pd\n",
    "from matplotlib import pyplot as plt\n",
    "from plotly import graph_objs as go\n",
    "from plotly.offline import init_notebook_mode, iplot\n",
    "init_notebook_mode(connected=True)\n",
    "import pandas as pd\n",
    "import math\n",
    "import numpy as pd\n",
    "\n",
    "plt.rcParams[\"figure.figsize\"] = (15,7)"
   ]
  },
  {
   "cell_type": "code",
   "execution_count": 16,
   "id": "075f1a16",
   "metadata": {},
   "outputs": [
    {
     "data": {
      "text/html": [
       "        <script type=\"text/javascript\">\n",
       "        window.PlotlyConfig = {MathJaxConfig: 'local'};\n",
       "        if (window.MathJax) {MathJax.Hub.Config({SVG: {font: \"STIX-Web\"}});}\n",
       "        if (typeof require !== 'undefined') {\n",
       "        require.undef(\"plotly\");\n",
       "        requirejs.config({\n",
       "            paths: {\n",
       "                'plotly': ['https://cdn.plot.ly/plotly-latest.min']\n",
       "            }\n",
       "        });\n",
       "        require(['plotly'], function(Plotly) {\n",
       "            window._Plotly = Plotly;\n",
       "        });\n",
       "        }\n",
       "        </script>\n",
       "        "
      ]
     },
     "metadata": {},
     "output_type": "display_data"
    },
    {
     "data": {
      "text/html": [
       "        <script type=\"text/javascript\">\n",
       "        window.PlotlyConfig = {MathJaxConfig: 'local'};\n",
       "        if (window.MathJax) {MathJax.Hub.Config({SVG: {font: \"STIX-Web\"}});}\n",
       "        if (typeof require !== 'undefined') {\n",
       "        require.undef(\"plotly\");\n",
       "        requirejs.config({\n",
       "            paths: {\n",
       "                'plotly': ['https://cdn.plot.ly/plotly-latest.min']\n",
       "            }\n",
       "        });\n",
       "        require(['plotly'], function(Plotly) {\n",
       "            window._Plotly = Plotly;\n",
       "        });\n",
       "        }\n",
       "        </script>\n",
       "        "
      ]
     },
     "metadata": {},
     "output_type": "display_data"
    }
   ],
   "source": [
    "from tools_ import Generate"
   ]
  },
  {
   "cell_type": "code",
   "execution_count": 3,
   "id": "ce3927df",
   "metadata": {},
   "outputs": [],
   "source": [
    "# obj = Generate.Generate(\"all_decisions_data.csv\")"
   ]
  },
  {
   "cell_type": "code",
   "execution_count": 4,
   "id": "e283623d",
   "metadata": {},
   "outputs": [],
   "source": [
    "# run_decision_1 = obj.generate_line_plot(\"decision\", \"distance-covered\")"
   ]
  },
  {
   "cell_type": "code",
   "execution_count": 5,
   "id": "05b16a67",
   "metadata": {},
   "outputs": [],
   "source": [
    "# bar_plot_trial = obj.generate_bar_plot(\"decision\", \"Lane Changing Decisions Study\", 500)"
   ]
  },
  {
   "cell_type": "code",
   "execution_count": 1,
   "id": "e21c4461",
   "metadata": {},
   "outputs": [],
   "source": [
    "# obj1 = Generate.Generate([\"all_decisions_400_total.csv\"])"
   ]
  },
  {
   "cell_type": "code",
   "execution_count": 2,
   "id": "a38beeeb",
   "metadata": {},
   "outputs": [],
   "source": [
    "# line_plot = obj1.generate_line_plot(\"decision\", \"distance-covered\")"
   ]
  },
  {
   "cell_type": "code",
   "execution_count": 3,
   "id": "d646b088",
   "metadata": {},
   "outputs": [],
   "source": [
    "# bar_plot = obj1.generate_bar_plot(\"decision\", \"Lane Changing Decisions Study\", 200)"
   ]
  },
  {
   "cell_type": "code",
   "execution_count": 4,
   "id": "f2a25c1b",
   "metadata": {},
   "outputs": [],
   "source": [
    "# _ = obj1.generate_moving_avg_plot(\"decison\", \"Evaluating Various Decisions\", 5)"
   ]
  },
  {
   "cell_type": "code",
   "execution_count": 10,
   "id": "7e2402fe",
   "metadata": {},
   "outputs": [],
   "source": [
    "# bar_plot.transpose()"
   ]
  },
  {
   "cell_type": "code",
   "execution_count": 11,
   "id": "c26e76a6",
   "metadata": {},
   "outputs": [],
   "source": [
    "# bar_plot_1 = obj1.generate_bar_plot(\"decision\", \"Lane Changing Decisions Study\", 200)"
   ]
  },
  {
   "cell_type": "code",
   "execution_count": 12,
   "id": "befade0e",
   "metadata": {},
   "outputs": [],
   "source": [
    "# bar_plot_1.transpose()"
   ]
  },
  {
   "cell_type": "code",
   "execution_count": 13,
   "id": "0b4850a4",
   "metadata": {},
   "outputs": [],
   "source": [
    "# run_2 = Generate.Generate(\"cars_50_decisions_4_runs_10.csv\")\n",
    "# _ = run_2.generate_line_plot(\"decision\", \"distance-covered\")\n",
    "# _ = run_2.generate_bar_plot(\"decision\", \"Lane Changing Decisions Study\", 500)"
   ]
  },
  {
   "cell_type": "code",
   "execution_count": 5,
   "id": "0ad367b8",
   "metadata": {},
   "outputs": [],
   "source": [
    "# run_3 = Generate.Generate([\"wq.csv\"])"
   ]
  },
  {
   "cell_type": "code",
   "execution_count": 6,
   "id": "b91f14ad",
   "metadata": {},
   "outputs": [],
   "source": [
    "# temp = run_3.generate_moving_avg_plot(\"decison\", \"Evaluating Various Decisions\", 50)"
   ]
  },
  {
   "cell_type": "code",
   "execution_count": 7,
   "id": "d3b8d37c",
   "metadata": {},
   "outputs": [],
   "source": [
    "# _ = run_3.generate_bar_plot(\"decision\", \"Lane Changing Decisions Study\", 2000)"
   ]
  },
  {
   "cell_type": "code",
   "execution_count": 8,
   "id": "b47c52cb",
   "metadata": {},
   "outputs": [],
   "source": [
    "# run_4 = Generate.Generate([\"ew.csv\"])"
   ]
  },
  {
   "cell_type": "code",
   "execution_count": 9,
   "id": "7c89ef9e",
   "metadata": {},
   "outputs": [],
   "source": [
    "# _ = run_4.generate_moving_avg_plot(\"decison\", \"Evaluating Various Decisions\", 50)"
   ]
  },
  {
   "cell_type": "code",
   "execution_count": 10,
   "id": "89b89f82",
   "metadata": {},
   "outputs": [],
   "source": [
    "# run_5 = Generate.Generate([\"ds.csv\"])"
   ]
  },
  {
   "cell_type": "code",
   "execution_count": 11,
   "id": "919d81c0",
   "metadata": {},
   "outputs": [],
   "source": [
    "# _ = run_5.generate_moving_avg_plot(\"decison\", \"Evaluating Various Decisions\", 50)"
   ]
  },
  {
   "cell_type": "code",
   "execution_count": 12,
   "id": "2ac80bc7",
   "metadata": {},
   "outputs": [],
   "source": [
    "# temp = run_5.generate_line_plot(\"decision\", \"distance-covered\")"
   ]
  },
  {
   "cell_type": "code",
   "execution_count": 13,
   "id": "87cf07c1",
   "metadata": {},
   "outputs": [],
   "source": [
    "# run_6_max_patience = Generate.Generate([])"
   ]
  },
  {
   "cell_type": "code",
   "execution_count": 14,
   "id": "7b486479",
   "metadata": {},
   "outputs": [],
   "source": [
    "# _ = run_6_max_patience.generate_line_plot(\"decision\", \"distance-covered\")"
   ]
  },
  {
   "cell_type": "code",
   "execution_count": 15,
   "id": "73d2dfce",
   "metadata": {},
   "outputs": [],
   "source": [
    "# _ = run_6_max_patience.generate_moving_avg_plot(\"decison\", \"Evaluating Various Decisions\", 60)"
   ]
  },
  {
   "cell_type": "code",
   "execution_count": 3,
   "id": "5c0aaa25",
   "metadata": {},
   "outputs": [
    {
     "data": {
      "text/html": [
       "        <script type=\"text/javascript\">\n",
       "        window.PlotlyConfig = {MathJaxConfig: 'local'};\n",
       "        if (window.MathJax) {MathJax.Hub.Config({SVG: {font: \"STIX-Web\"}});}\n",
       "        if (typeof require !== 'undefined') {\n",
       "        require.undef(\"plotly\");\n",
       "        requirejs.config({\n",
       "            paths: {\n",
       "                'plotly': ['https://cdn.plot.ly/plotly-latest.min']\n",
       "            }\n",
       "        });\n",
       "        require(['plotly'], function(Plotly) {\n",
       "            window._Plotly = Plotly;\n",
       "        });\n",
       "        }\n",
       "        </script>\n",
       "        "
      ]
     },
     "metadata": {},
     "output_type": "display_data"
    }
   ],
   "source": [
    "import pandas as pd\n",
    "from matplotlib import pyplot as plt\n",
    "from plotly import graph_objs as go\n",
    "from plotly.offline import init_notebook_mode, iplot\n",
    "init_notebook_mode(connected=True)\n",
    "import pandas as pd\n",
    "import math\n",
    "import numpy as pd\n",
    "\n",
    "plt.rcParams[\"figure.figsize\"] = (15,5)"
   ]
  },
  {
   "cell_type": "code",
   "execution_count": 4,
   "id": "1b278eb5",
   "metadata": {},
   "outputs": [
    {
     "data": {
      "text/html": [
       "        <script type=\"text/javascript\">\n",
       "        window.PlotlyConfig = {MathJaxConfig: 'local'};\n",
       "        if (window.MathJax) {MathJax.Hub.Config({SVG: {font: \"STIX-Web\"}});}\n",
       "        if (typeof require !== 'undefined') {\n",
       "        require.undef(\"plotly\");\n",
       "        requirejs.config({\n",
       "            paths: {\n",
       "                'plotly': ['https://cdn.plot.ly/plotly-latest.min']\n",
       "            }\n",
       "        });\n",
       "        require(['plotly'], function(Plotly) {\n",
       "            window._Plotly = Plotly;\n",
       "        });\n",
       "        }\n",
       "        </script>\n",
       "        "
      ]
     },
     "metadata": {},
     "output_type": "display_data"
    },
    {
     "data": {
      "text/html": [
       "        <script type=\"text/javascript\">\n",
       "        window.PlotlyConfig = {MathJaxConfig: 'local'};\n",
       "        if (window.MathJax) {MathJax.Hub.Config({SVG: {font: \"STIX-Web\"}});}\n",
       "        if (typeof require !== 'undefined') {\n",
       "        require.undef(\"plotly\");\n",
       "        requirejs.config({\n",
       "            paths: {\n",
       "                'plotly': ['https://cdn.plot.ly/plotly-latest.min']\n",
       "            }\n",
       "        });\n",
       "        require(['plotly'], function(Plotly) {\n",
       "            window._Plotly = Plotly;\n",
       "        });\n",
       "        }\n",
       "        </script>\n",
       "        "
      ]
     },
     "metadata": {},
     "output_type": "display_data"
    }
   ],
   "source": [
    "from tools_ import Generate"
   ]
  },
  {
   "cell_type": "code",
   "execution_count": 5,
   "id": "04249429",
   "metadata": {},
   "outputs": [],
   "source": [
    "paths = [\"run_1_30_cars.csv\", \"run_2_40_cars.csv\", \"run_3_50_cars.csv\", \"run_4_60_cars.csv\"]"
   ]
  },
  {
   "cell_type": "code",
   "execution_count": 6,
   "id": "46f45d09",
   "metadata": {},
   "outputs": [],
   "source": [
    "runs = Generate.Generate(paths)"
   ]
  },
  {
   "cell_type": "code",
   "execution_count": 14,
   "id": "b4c47564",
   "metadata": {},
   "outputs": [],
   "source": [
    "_ = runs.generate_moving_avg_plot(\"decision\", \"Evaluating Various Lane Changing Decisions\", 50)"
   ]
  },
  {
   "cell_type": "code",
   "execution_count": 8,
   "id": "b7092b02",
   "metadata": {},
   "outputs": [],
   "source": [
    "paths_1 = [\"run_1_30_cars_100_runs.csv\", \"run_2_40_cars_100_runs.csv\", \"run_3_50_cars_100_runs.csv\", \"run_4_60_cars_100_runs.csv\"]"
   ]
  },
  {
   "cell_type": "code",
   "execution_count": 9,
   "id": "e8ea4411",
   "metadata": {},
   "outputs": [],
   "source": [
    "runs_1 = Generate.Generate(paths_1)"
   ]
  },
  {
   "cell_type": "code",
   "execution_count": 13,
   "id": "e07b6c68",
   "metadata": {},
   "outputs": [],
   "source": [
    "_ = runs_1.generate_moving_avg_plot(\"decision\", \"Evaluating Various Lane Changing Decisions\", 50)"
   ]
  },
  {
   "cell_type": "code",
   "execution_count": 15,
   "id": "ddd7f26f",
   "metadata": {},
   "outputs": [],
   "source": [
    "paths_3 = [\"run_3_30_cars_2_lanes.csv\"]\n",
    "runs_3 = Generate.Generate(paths_3)\n",
    "# _ = runs_3.generate_line_plot(\"decision\", \"Evaluating Various Lane Changing Decisions\")\n"
   ]
  },
  {
   "cell_type": "code",
   "execution_count": null,
   "id": "82191031",
   "metadata": {},
   "outputs": [],
   "source": [
    "_ = runs_3.generate_line_plot(\"decision\", \"Evaluating Various Lane Changing Decisions\")"
   ]
  }
 ],
 "metadata": {
  "kernelspec": {
   "display_name": "Python 3 (ipykernel)",
   "language": "python",
   "name": "python3"
  },
  "language_info": {
   "codemirror_mode": {
    "name": "ipython",
    "version": 3
   },
   "file_extension": ".py",
   "mimetype": "text/x-python",
   "name": "python",
   "nbconvert_exporter": "python",
   "pygments_lexer": "ipython3",
   "version": "3.8.10"
  }
 },
 "nbformat": 4,
 "nbformat_minor": 5
}
